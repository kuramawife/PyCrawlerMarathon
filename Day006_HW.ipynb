{
 "cells": [
  {
   "cell_type": "markdown",
   "metadata": {},
   "source": [
    "# API 資料串接 - 以 知乎 API 實作範例\n",
    "\n",
    "\n",
    "\n",
    "* 了解知乎 API 使用方式與回傳內容\n",
    "* 撰寫程式存取 API 且添加標頭\n",
    "\n",
    "\n"
   ]
  },
  {
   "cell_type": "markdown",
   "metadata": {},
   "source": [
    "## 作業目標\n",
    "\n",
    "* 根據範例提供的 API ，完成以下問題：\n",
    "\n",
    "    1. 取出知乎問題發問時間\n",
    "    2. 取出第一筆與最後一筆回答的時間\n"
   ]
  },
  {
   "cell_type": "markdown",
   "metadata": {},
   "source": [
    "### 1. 取出知乎問題發問時間"
   ]
  },
  {
   "cell_type": "code",
   "execution_count": 37,
   "metadata": {},
   "outputs": [],
   "source": [
    "import requests\n",
    "headers = {'user-agent': 'my-app/0.0.1'}\n",
    "r = requests.get('https://www.zhihu.com/api/v4/questions/55493026/answers',headers=headers)\n",
    "response = r.text"
   ]
  },
  {
   "cell_type": "code",
   "execution_count": 38,
   "metadata": {},
   "outputs": [],
   "source": [
    "import json\n",
    "data = json.loads(response)"
   ]
  },
  {
   "cell_type": "code",
   "execution_count": 39,
   "metadata": {},
   "outputs": [
    {
     "name": "stdout",
     "output_type": "stream",
     "text": [
      "id\n",
      "type\n",
      "answer_type\n",
      "question\n",
      "author\n",
      "url\n",
      "is_collapsed\n",
      "created_time\n",
      "updated_time\n",
      "extras\n",
      "is_copyable\n",
      "relationship\n",
      "ad_answer\n"
     ]
    }
   ],
   "source": [
    "for d in data[\"data\"][0]:\n",
    "    print(d)"
   ]
  },
  {
   "cell_type": "code",
   "execution_count": 74,
   "metadata": {},
   "outputs": [
    {
     "name": "stdout",
     "output_type": "stream",
     "text": [
      "問題主題:你们都是怎么学 Python 的？ 發問時間:2017-02-06 22:10:29\n"
     ]
    }
   ],
   "source": [
    "# 1. 取出知乎問題發問時間\n",
    "a = 0\n",
    "import time\n",
    "for d in data[\"data\"]:\n",
    "    if a == 0:\n",
    "        time_stamp = d['question']['created'] # 設定timeStamp\n",
    "        struct_time = time.localtime(time_stamp) # 轉成時間元組\n",
    "        timeString = time.strftime(\"%Y-%m-%d %H:%M:%S\", struct_time) # 轉成字串\n",
    "        print(\"問題主題:\" + str(d['question']['title']),\"發問時間:\" + timeString)\n",
    "        a = a + 1\n"
   ]
  },
  {
   "cell_type": "markdown",
   "metadata": {},
   "source": [
    "### 2. 取出第一筆與最後一筆回答的時間"
   ]
  },
  {
   "cell_type": "code",
   "execution_count": 76,
   "metadata": {},
   "outputs": [
    {
     "name": "stdout",
     "output_type": "stream",
     "text": [
      "回答時間:2019-04-01 10:17:08\n",
      "回答時間:2019-08-07 11:03:18\n"
     ]
    }
   ],
   "source": [
    "# 2. 取出第一筆與最後一筆回答的時間\n",
    "count = 1\n",
    "for d in data[\"data\"]:\n",
    "    if count == 1 or count == len(data[\"data\"]): \n",
    "        time_stamp = d['created_time'] # 設定timeStamp\n",
    "        struct_time = time.localtime(time_stamp) # 轉成時間元組\n",
    "        timeString = time.strftime(\"%Y-%m-%d %H:%M:%S\", struct_time) # 轉成字串\n",
    "        print(\"回答時間:\" + timeString)\n",
    "        count = count + 1\n",
    "    else:\n",
    "        count = count + 1"
   ]
  },
  {
   "cell_type": "code",
   "execution_count": null,
   "metadata": {},
   "outputs": [],
   "source": []
  },
  {
   "cell_type": "code",
   "execution_count": null,
   "metadata": {},
   "outputs": [],
   "source": []
  },
  {
   "cell_type": "code",
   "execution_count": null,
   "metadata": {},
   "outputs": [],
   "source": []
  }
 ],
 "metadata": {
  "kernelspec": {
   "display_name": "Python 3",
   "language": "python",
   "name": "python3"
  },
  "language_info": {
   "codemirror_mode": {
    "name": "ipython",
    "version": 3
   },
   "file_extension": ".py",
   "mimetype": "text/x-python",
   "name": "python",
   "nbconvert_exporter": "python",
   "pygments_lexer": "ipython3",
   "version": "3.8.3"
  }
 },
 "nbformat": 4,
 "nbformat_minor": 2
}
